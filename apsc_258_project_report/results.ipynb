{
 "cells": [
  {
   "cell_type": "markdown",
   "metadata": {},
   "source": [
    "# Results\n",
    "\n",
    "Model V3:\n",
    "```\n",
    "Epoch 21/25\n",
    "800/800 ━━━━━━━━━━━━ 6s 8ms/step - loss: 9.1319 - val_loss: 26.2681\n",
    "Epoch 22/25\n",
    "800/800 ━━━━━━━━━━━━ 6s 8ms/step - loss: 9.0614 - val_loss: 23.0115\n",
    "Epoch 23/25\n",
    "800/800 ━━━━━━━━━━━━ 6s 8ms/step - loss: 8.1851 - val_loss: 19.1624\n",
    "Epoch 24/25\n",
    "800/800 ━━━━━━━━━━━━ 6s 8ms/step - loss: 7.7027 - val_loss: 20.7945\n",
    "Epoch 25/25\n",
    "800/800 ━━━━━━━━━━━━ 6s 8ms/step - loss: 8.0659 - val_loss: 18.5401\n",
    "```\n",
    "\n",
    "Model V19\n",
    "```\n",
    "Epoch 146/150\n",
    "800/800 ━━━━━━━━━━━━ 2s 3ms/step - loss: 9.7535 - val_loss: 22.2732\n",
    "Epoch 147/150\n",
    "800/800 ━━━━━━━━━━━━ 2s 3ms/step - loss: 9.0911 - val_loss: 23.9203\n",
    "Epoch 148/150\n",
    "800/800 ━━━━━━━━━━━━ 2s 3ms/step - loss: 9.8172 - val_loss: 22.5343\n",
    "Epoch 149/150\n",
    "800/800 ━━━━━━━━━━━━ 2s 3ms/step - loss: 9.2620 - val_loss: 18.2970\n",
    "Epoch 150/150\n",
    "800/800 ━━━━━━━━━━━━ 2s 3ms/step - loss: 9.9574 - val_loss: 22.8255\n",
    "```\n",
    "\n",
    "Model V27\n",
    "```\n",
    "Epoch 160: Loss = 8.1457, Val Loss = 8.9514\n",
    "Epoch 170: Loss = 8.2891, Val Loss = 8.7408\n",
    "Epoch 180: Loss = 8.2174, Val Loss = 8.9240\n",
    "Epoch 190: Loss = 8.1440, Val Loss = 8.5655\n",
    "Epoch 200: Loss = 8.2459, Val Loss = 8.4164\n",
    "```\n",
    "\n",
    "Model V35\n",
    "```\n",
    "Epoch 60: Loss = 13.9307, Val Loss = 22.8190\n",
    "Epoch 70: Loss = 13.5184, Val Loss = 29.6004\n",
    "Epoch 80: Loss = 13.3570, Val Loss = 23.0545\n",
    "Epoch 90: Loss = 14.0007, Val Loss = 15.1174\n",
    "Epoch 100: Loss = 13.9785, Val Loss = 11.5439\n",
    "```"
   ]
  }
 ],
 "metadata": {
  "language_info": {
   "name": "python"
  }
 },
 "nbformat": 4,
 "nbformat_minor": 2
}
